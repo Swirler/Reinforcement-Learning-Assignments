{
 "cells": [
  {
   "cell_type": "markdown",
   "metadata": {},
   "source": [
    "# Dynamic Programming"
   ]
  },
  {
   "cell_type": "code",
   "execution_count": 1,
   "metadata": {},
   "outputs": [],
   "source": [
    "import numpy as np\n",
    "import time\n",
    "import matplotlib.pyplot as plt\n",
    "import matplotlib as mpl"
   ]
  },
  {
   "cell_type": "code",
   "execution_count": 2,
   "metadata": {},
   "outputs": [],
   "source": [
    "mpl.rc('text', usetex=True)\n",
    "mpl.rc('font',**{'family':'serif','sans-serif':'Helvetica','size':16})"
   ]
  },
  {
   "cell_type": "markdown",
   "metadata": {},
   "source": [
    "## Q1 : MDP Model"
   ]
  },
  {
   "cell_type": "markdown",
   "metadata": {},
   "source": [
    "Implementing the MDP model (see code)"
   ]
  },
  {
   "cell_type": "code",
   "execution_count": 3,
   "metadata": {},
   "outputs": [],
   "source": [
    "# p(axis=0/axis=1,axis=2)\n",
    "# axis=0 : state\n",
    "# axis=1 : state\n",
    "# axis=2 : action\n",
    "MDP=np.array([[0.55,0.45,0],[0.3,0.7,0],[1,0,0],[1,0,0],[0,0.4,0.6],[0,1,0],[0,1,0],[0,0.6,0.4],[0,0,1]]).reshape(3,3,3)\n",
    "MDP=np.transpose(MDP, (2,0,1))\n",
    "\n",
    "rewards=np.array([0,0,5/100,0,0,0,0,1,9/10]).reshape(3,3)"
   ]
  },
  {
   "cell_type": "markdown",
   "metadata": {},
   "source": [
    "We notice that taking action $a_2$ at state $s_2$ has the biggest reward, and always yield to stay at the state $s_2$. So the best strategy is to attain that state and loop over taking action $a_2$ to have the biggest reward. The optimal policy here is therefore simple to guess :\n",
    "$$ \\pi^* = [a_1, a_1, a_2]$$"
   ]
  },
  {
   "cell_type": "markdown",
   "metadata": {},
   "source": [
    "## Q2 : Value iteration"
   ]
  },
  {
   "cell_type": "markdown",
   "metadata": {},
   "source": [
    "The stopping criterion for the value iteration is to stop when $$ \\lVert v^{k+1} - v^{k} \\rVert_{\\infty} < \\alpha \\quad \\textrm{which implies} \\quad \\lVert v^{\\pi^{k+1}} - v^{*} \\rVert_{\\infty} < \\frac{2\\alpha\\gamma}{1-\\gamma}$$\n",
    "We want a 0.01 optimal policy, in other words we want \n",
    "$$ \\lVert v^{\\pi^{k+1}} - v^{*} \\rVert_{\\infty} < 0.01 $$\n",
    "So we'll take the stoping criterion : \n",
    "$$ \\alpha = \\frac{0.01(1-\\gamma)}{2\\gamma}$$\n"
   ]
  },
  {
   "cell_type": "code",
   "execution_count": 4,
   "metadata": {},
   "outputs": [],
   "source": [
    "class ValueIteration():\n",
    "    \n",
    "    def __init__(self, epsilon, gamma):\n",
    "        '''\n",
    "        Parameters & Attributes:\n",
    "        \n",
    "        epsilon: float\n",
    "            convergence\n",
    "        gamma: float\n",
    "            Discount factor\n",
    "        V_history_: np.array\n",
    "            List of all value policy during iterations  \n",
    "        V: np.array\n",
    "            Converged value function \n",
    "        greedy_policy: np.array\n",
    "            Greedy policy with regards to the converged value function\n",
    "        it_: int\n",
    "            Number of iterations\n",
    "        '''\n",
    "        self.epsilon = epsilon\n",
    "        self.gamma = gamma\n",
    "        self.V_history_ = None\n",
    "        self.V = None\n",
    "        self.greedy_policy = None\n",
    "        self.it_ = None\n",
    "        \n",
    "    def Bellman_operator(self, V, MDP, rewards, gamma):\n",
    "        \"\"\"\n",
    "        Bellman Operator for a given MDP, discount factor and rewards\n",
    "        \"\"\"\n",
    "        return np.max(rewards + gamma * np.einsum('kij, k -> ij',MDP,V),axis=1)\n",
    "    \n",
    "    def value_function_from_policy(self, MDP, rewards, policy):\n",
    "        \"\"\"\n",
    "        Compute value function from policy given MDP and rewards\n",
    "        \"\"\"\n",
    "        P=self.gamma*(MDP[:,[0,1,2],policy].T)\n",
    "        R=rewards[[0,1,2],policy]      \n",
    "        return np.matmul(np.linalg.inv(np.eye(MDP.shape[0])-P),R)\n",
    "    \n",
    "    def compute_greedy_policy(self, rewards, MDP, value_function):\n",
    "        \"\"\"\n",
    "        Compute greedy policy from a value function\n",
    "        \"\"\"\n",
    "        return np.argmax(rewards + self.gamma * np.einsum('kij, k -> ij',MDP,value_function),axis=1)\n",
    "        \n",
    "    def run(self, MDP, rewards):\n",
    "        \"\"\" Run value iteration algorithm\n",
    "        \n",
    "        Parameters:\n",
    "        -----------\n",
    "        MDP : np.array\n",
    "            The first axis is the new state, second axis is the current state and third axis is the action taken\n",
    "        rewards: np.array\n",
    "            The first axis is the state and the second axis is the action taken\n",
    "        \n",
    "        Returns:\n",
    "        -----\n",
    "        (V, Policy) : \n",
    "        \"\"\"     \n",
    "        \n",
    "        self.MDP = MDP\n",
    "        self.r = rewards\n",
    "        self.V_history_ = [np.random.uniform(0,1,self.MDP.shape[0])]\n",
    "        \n",
    "        criterion = (1-self.gamma)*self.epsilon/(2*self.gamma)\n",
    "        \n",
    "        converged=False\n",
    "        self.it_=0\n",
    "        \n",
    "        while (not converged):\n",
    "            self.it_+=1\n",
    "            V=self.Bellman_operator(self.V_history_[-1], MDP, self.r, self.gamma)\n",
    "            if np.max(np.abs(V-self.V_history_[-1]))<criterion:\n",
    "                converged=True\n",
    "            self.V_history_+=[V]\n",
    "        \n",
    "        self.V = V\n",
    "        self.greedy_policy = self.compute_greedy_policy(self.r, self.MDP, self.V)        \n",
    "        return self.greedy_policy \n",
    "    \n",
    "    def plot_evolution(self,optimal_value_function):\n",
    "        \"\"\"\n",
    "        Plot the inifinity norm of the difference of the optimal function\n",
    "        and the value functions computed along iterations\n",
    "        \"\"\"\n",
    "        plt.plot(np.max((np.abs(np.array(VI.V_history_) - optimal_value_function)),axis=1))\n",
    "        plt.xlabel(\"Iterations : k\")\n",
    "        plt.ylabel('$||v_k - v^*||_\\infty$')\n",
    "        plt.show()"
   ]
  },
  {
   "cell_type": "markdown",
   "metadata": {},
   "source": [
    "Running Value Iteration :"
   ]
  },
  {
   "cell_type": "code",
   "execution_count": 5,
   "metadata": {},
   "outputs": [
    {
     "name": "stdout",
     "output_type": "stream",
     "text": [
      "Number of iterations : 159\n",
      "Greedy Policy found : [1 1 2]\n"
     ]
    }
   ],
   "source": [
    "VI = ValueIteration(epsilon=1e-2,gamma=0.95)\n",
    "Greedy_Policy = VI.run(MDP,rewards)\n",
    "print(\"Number of iterations :\",VI.it_)\n",
    "print(\"Greedy Policy found :\",Greedy_Policy)"
   ]
  },
  {
   "cell_type": "markdown",
   "metadata": {},
   "source": [
    "Compute the optimal policy using the greedy policy :"
   ]
  },
  {
   "cell_type": "code",
   "execution_count": 6,
   "metadata": {},
   "outputs": [
    {
     "name": "stdout",
     "output_type": "stream",
     "text": [
      "V* : [15.39115723 16.5483871  18.        ]\n"
     ]
    }
   ],
   "source": [
    "V_star = VI.value_function_from_policy(MDP, rewards, Greedy_Policy)\n",
    "print(\"V* :\",V_star)"
   ]
  },
  {
   "cell_type": "markdown",
   "metadata": {},
   "source": [
    "Plotting the inifinity norm evolution along iterations"
   ]
  },
  {
   "cell_type": "code",
   "execution_count": 7,
   "metadata": {},
   "outputs": [
    {
     "data": {
      "image/png": "[encoded data removed]",
      "text/plain": [
       "<Figure size 432x288 with 1 Axes>"
      ]
     },
     "metadata": {
      "needs_background": "light"
     },
     "output_type": "display_data"
    }
   ],
   "source": [
    "VI.plot_evolution(V_star)"
   ]
  },
  {
   "cell_type": "markdown",
   "metadata": {},
   "source": [
    "## Q3 : Policy iteration"
   ]
  },
  {
   "cell_type": "code",
   "execution_count": 8,
   "metadata": {},
   "outputs": [],
   "source": [
    "class PolicyIteration():\n",
    "    \n",
    "    def __init__(self, gamma):\n",
    "        '''\n",
    "        Parameters & Attributes:\n",
    "        \n",
    "        gamma: float\n",
    "            Discount factor\n",
    "        policy_history_: np.array\n",
    "            List of all policies during iterations  \n",
    "        V: np.array\n",
    "            Converged value function \n",
    "        greedy_policy: np.array\n",
    "            Greedy policy with regards to the converged value function\n",
    "        it_: float\n",
    "            number of iterations\n",
    "        '''\n",
    "        self.gamma = gamma\n",
    "        self.policy_history_ = None\n",
    "        self.V = None\n",
    "        self.greedy_policy = None\n",
    "        self.it_ = None\n",
    "        \n",
    "    def Bellman_operator(self, V, MDP, rewards, gamma):\n",
    "        \"\"\"\n",
    "        Bellman Operator for a given MDP, discount factor and rewards\n",
    "        \"\"\"\n",
    "        return np.max(rewards + gamma * np.einsum('kij, k -> ij',MDP,V),axis=1)\n",
    "    \n",
    "    def compute_greedy_policy(self, V, MDP, rewards, gamma):\n",
    "        \"\"\"\n",
    "        Compute greedy policy from a value function\n",
    "        \"\"\"\n",
    "        return np.argmax(rewards + gamma * np.einsum('kij, k -> ij',MDP,V),axis=1)\n",
    "    \n",
    "    def value_function_from_policy(self, MDP, rewards, policy):\n",
    "        \"\"\"\n",
    "        Compute value function from policy given MDP and rewards\n",
    "        \"\"\"\n",
    "        P=self.gamma*(MDP[:,[0,1,2],policy].T)\n",
    "        R=rewards[[0,1,2],policy]\n",
    "        return np.linalg.solve(np.eye(MDP.shape[0])-P,R)\n",
    "        \n",
    "    def run(self, MDP, rewards):\n",
    "        \"\"\" Run policy iteration algorithm\n",
    "        \n",
    "        Parameters:\n",
    "        -----------\n",
    "        MDP : np.array\n",
    "            The first axis is the new state, second axis is the current state and third axis is the action taken\n",
    "        rewards: np.array\n",
    "            The first axis is the state and the second axis is the action taken\n",
    "        \n",
    "        Returns:\n",
    "        -----\n",
    "        (V, Policy) : \n",
    "        \"\"\"     \n",
    "        \n",
    "        self.MDP = MDP\n",
    "        self.r = rewards\n",
    "        self.policy_history_ = [np.zeros(MDP.shape[2],dtype='int')]\n",
    "        self.V=self.value_function_from_policy(MDP, rewards, self.policy_history_[-1]) \n",
    "        \n",
    "        converged=False\n",
    "        self.it_=0\n",
    "        \n",
    "        while (not converged):\n",
    "            self.it_+=1\n",
    "            self.greedy_policy = self.compute_greedy_policy(self.V, MDP, self.r, self.gamma)\n",
    "            if np.all(self.greedy_policy==self.policy_history_[-1]):\n",
    "                converged=True\n",
    "            self.policy_history_+=[self.greedy_policy]\n",
    "            self.V = self.value_function_from_policy(MDP, rewards, self.greedy_policy)       \n",
    "        \n",
    "        return self.greedy_policy\n",
    "        \n",
    "    def plot_evolution(self,value_function_compare):\n",
    "        plt.plot(np.max((np.abs(np.array(VI.V_history_) - value_function_compare)),axis=1))\n",
    "        plt.show()"
   ]
  },
  {
   "cell_type": "markdown",
   "metadata": {},
   "source": [
    "Running Policy Iteration :"
   ]
  },
  {
   "cell_type": "code",
   "execution_count": 9,
   "metadata": {},
   "outputs": [
    {
     "name": "stdout",
     "output_type": "stream",
     "text": [
      "Number of iterations : 4\n",
      "Greedy Policy found : [1 1 2]\n"
     ]
    }
   ],
   "source": [
    "PI = PolicyIteration(gamma=0.95)\n",
    "Greedy_Policy = PI.run(MDP,rewards)\n",
    "print(\"Number of iterations :\",PI.it_)\n",
    "print(\"Greedy Policy found :\",Greedy_Policy)"
   ]
  },
  {
   "cell_type": "markdown",
   "metadata": {},
   "source": [
    "## Comparison between VI and PI"
   ]
  },
  {
   "cell_type": "code",
   "execution_count": 10,
   "metadata": {},
   "outputs": [
    {
     "name": "stdout",
     "output_type": "stream",
     "text": [
      "Value iteration algorithm time execution on average :\n",
      "2.45 ms ± 366 µs per loop (mean ± std. dev. of 7 runs, 100 loops each)\n"
     ]
    }
   ],
   "source": [
    "VI = ValueIteration(epsilon=1e-2,gamma=0.95)\n",
    "print(\"Value iteration algorithm time execution on average :\")\n",
    "%timeit Greedy_Policy = VI.run(MDP,rewards)"
   ]
  },
  {
   "cell_type": "code",
   "execution_count": 11,
   "metadata": {},
   "outputs": [
    {
     "name": "stdout",
     "output_type": "stream",
     "text": [
      "Policy iteration algorithm time execution on average :\n",
      "188 µs ± 19.1 µs per loop (mean ± std. dev. of 7 runs, 1000 loops each)\n"
     ]
    }
   ],
   "source": [
    "PI = PolicyIteration(gamma=0.95)\n",
    "print(\"Policy iteration algorithm time execution on average :\")\n",
    "%timeit Greedy_Policy = PI.run(MDP,rewards)"
   ]
  },
  {
   "cell_type": "markdown",
   "metadata": {},
   "source": [
    "We notice that the **value iteration algorithm** converges to the optimal policy in **2.32ms for a total of 160 iterations.**\n",
    "\n",
    "The **policy iteration algorithm** converges to the same optimal policy in **187$\\mu s$ for a total of 4 iterations.**\n",
    "\n",
    "The policy iteration algorithm is much faster than the value iteration algorithm, despite the fact that its time complexity is much greater than the VI time complexity. In fact, since the MDP has a small number of possible actions, it admits a small finite number of policies which explains that PI is faster than VI despite the gap in computation complexity."
   ]
  },
  {
   "cell_type": "markdown",
   "metadata": {},
   "source": [
    "# Reinforcement Learning"
   ]
  },
  {
   "cell_type": "code",
   "execution_count": 12,
   "metadata": {},
   "outputs": [],
   "source": [
    "from gridworld import GridWorld1\n",
    "import gridrender as gui\n",
    "import numpy as np"
   ]
  },
  {
   "cell_type": "code",
   "execution_count": 13,
   "metadata": {},
   "outputs": [],
   "source": [
    "env = GridWorld1"
   ]
  },
  {
   "cell_type": "markdown",
   "metadata": {},
   "source": [
    "## Q4 : Monte-Carlo Estimator"
   ]
  },
  {
   "cell_type": "code",
   "execution_count": 14,
   "metadata": {},
   "outputs": [],
   "source": [
    "# Here the v-function and q-function to be used for question 4\n",
    "v_q4 = [0.87691855, 0.92820033, 0.98817903, 0.00000000, 0.67106071, -0.99447514, 0.00000000, -0.82847001, -0.87691855,\n",
    "        -0.93358351, -0.99447514]"
   ]
  },
  {
   "cell_type": "markdown",
   "metadata": {},
   "source": [
    "### Setting Parameters :"
   ]
  },
  {
   "cell_type": "markdown",
   "metadata": {},
   "source": [
    "We'll choose the discount factor $\\gamma = 0.95$, and $T_{max}$ the length of one episode as : \n",
    "$$T_{max}=-\\frac{log(\\delta/R_{max})}{1-\\gamma} $$\n",
    "with $R_{max} = 1$ the maximum reward, and $\\delta=1e-3$.\n",
    "\n",
    "We then have $T_{max}\\approx 139$"
   ]
  },
  {
   "cell_type": "code",
   "execution_count": 15,
   "metadata": {},
   "outputs": [],
   "source": [
    "gamma=0.95\n",
    "Rmax = 1\n",
    "delta=1e-3\n",
    "Tmax = int(np.ceil(-np.log(delta/Rmax)/(1-gamma)))"
   ]
  },
  {
   "cell_type": "markdown",
   "metadata": {},
   "source": [
    "### Building the policy :"
   ]
  },
  {
   "cell_type": "markdown",
   "metadata": {},
   "source": [
    "The policy to consider here is to take right if available and up otherwise :"
   ]
  },
  {
   "cell_type": "code",
   "execution_count": 16,
   "metadata": {},
   "outputs": [],
   "source": [
    "policy=[]\n",
    "for actions in env.state_actions:\n",
    "    if 0 in actions:\n",
    "        policy+=[0]\n",
    "    else: policy+=[3]\n",
    "        \n",
    "#gui.render_policy(env, policy)"
   ]
  },
  {
   "cell_type": "markdown",
   "metadata": {},
   "source": [
    "### Estimating the initial state distribution :"
   ]
  },
  {
   "cell_type": "markdown",
   "metadata": {},
   "source": [
    "Running 100000 resets to estimate the distribution :"
   ]
  },
  {
   "cell_type": "code",
   "execution_count": 17,
   "metadata": {},
   "outputs": [
    {
     "data": {
      "image/png": "[encoded data removed]",
      "text/plain": [
       "<Figure size 864x288 with 2 Axes>"
      ]
     },
     "metadata": {
      "needs_background": "light"
     },
     "output_type": "display_data"
    }
   ],
   "source": [
    "Initial_states=[]\n",
    "for i in range(100000):\n",
    "    Initial_states+=[env.reset()]\n",
    "Initial_states=np.array(Initial_states)\n",
    "labels, counts = np.unique(Initial_states, return_counts=True)\n",
    "mu0 = counts/100000\n",
    "\n",
    "f, (ax1, ax2) = plt.subplots(1,2, figsize=(12,4))\n",
    "\n",
    "ax1.bar(labels, counts, align='center')\n",
    "ax1.set_xticks(labels)\n",
    "ax1.set_xlabel(\"Initial states\")\n",
    "ax1.set_ylabel(\"Occurrences\")\n",
    "ax1.set_title(\"Initial state distribution\")\n",
    "\n",
    "\n",
    "ax2.plot(mu0,\"-o\")\n",
    "ax2.set_xlabel(\"Initial states\")\n",
    "ax2.set_title(\"Initial state probability\")\n",
    "\n",
    "plt.tight_layout()\n",
    "plt.show()"
   ]
  },
  {
   "cell_type": "markdown",
   "metadata": {},
   "source": [
    "### Monte Carlo Estimator :"
   ]
  },
  {
   "cell_type": "code",
   "execution_count": 18,
   "metadata": {},
   "outputs": [],
   "source": [
    "class MonteCarlo():\n",
    "    \"\"\"\n",
    "    Compute the Monte-Carlo estimator of the value function\n",
    "    for episodes of length Tmax.\n",
    "    \"\"\"\n",
    "    def __init__(self, n, Tmax, gamma, policy, env):\n",
    "        '''\n",
    "        Parameters & Attributes:\n",
    "        \n",
    "        n: int\n",
    "            Total number of trajectories\n",
    "        Tmax: int\n",
    "            Lenght of one episode  \n",
    "        gamma: float\n",
    "            Discount factor \n",
    "        policy: np.array\n",
    "            the policy chosen\n",
    "        env:\n",
    "            The MDP simulator\n",
    "            \n",
    "        counts_: np.array\n",
    "            Stores how often a state has been visited\n",
    "        V_ns_: np.array\n",
    "            Contains the montecarlo value functions estimators along trajectories\n",
    "        \n",
    "        '''\n",
    "        self.n = n\n",
    "        self.Tmax = Tmax\n",
    "        self.gamma = gamma\n",
    "        self.policy = policy\n",
    "        self.env = env\n",
    "        \n",
    "        self.counts_ = None\n",
    "        self.V_ns_ = None\n",
    "\n",
    "    def run(self):\n",
    "        \"\"\"       \n",
    "        Running the MonteCarlo algorithm\n",
    "        \"\"\"\n",
    "        self.counts_ = np.zeros(self.env.n_states)\n",
    "        gammas = np.array([gamma**k for k in range(self.Tmax)])\n",
    "        self.V_ns_ = np.zeros((self.n,self.env.n_states))\n",
    "\n",
    "        # Running n trajectories\n",
    "        for i in range(self.n):       \n",
    "            state = self.env.reset()\n",
    "            init_state=state\n",
    "            self.counts_[init_state]+=1\n",
    "\n",
    "            rewards=np.zeros(self.Tmax,dtype=int)\n",
    "            alpha=1/(self.counts_[init_state])\n",
    "\n",
    "            for t in range(self.Tmax):\n",
    "                action = self.policy[state]\n",
    "                nexts, rewards[t], term = env.step(state,action)\n",
    "                state = nexts\n",
    "\n",
    "            self.V_ns_[i,:]=self.V_ns_[i-1,:]\n",
    "            self.V_ns_[i,init_state]=(1-alpha)*self.V_ns_[i,init_state] + alpha*np.dot(rewards,gammas)\n",
    "\n",
    "        return self.V_ns_\n",
    "    \n",
    "    def compute_J_n(self,V_n,mu0):\n",
    "        \"\"\"\n",
    "        Compute J_n\n",
    "\n",
    "        Parameters:\n",
    "\n",
    "        V_n: np.array\n",
    "            Value function\n",
    "        mu0: np.array\n",
    "            Inital states distribution\n",
    "\n",
    "        \"\"\"\n",
    "        return np.dot(V_n,mu0)\n",
    "        \n",
    "    def plot_evolution(self,J_n_values,J_pi):\n",
    "        \"\"\"        \n",
    "        Plot J_n - J_pi along trajectories\n",
    "        \n",
    "        Parameters:\n",
    "        \n",
    "        J_n_values: np.array\n",
    "            J_n values along trajectories\n",
    "        J_pi: float\n",
    "            J value the value function of the policy chosen for the algorithm\n",
    "        \"\"\"        \n",
    "        plt.figure(figsize=(12,4))\n",
    "        plt.plot(J_n_values-J_pi)\n",
    "        plt.ylabel(\"$J_n - J^\\pi$\")\n",
    "        plt.xlabel(\"n\")\n",
    "        plt.show()"
   ]
  },
  {
   "cell_type": "markdown",
   "metadata": {},
   "source": [
    "Running the Monte Carlo algorithm for 1000 trajectories :"
   ]
  },
  {
   "cell_type": "code",
   "execution_count": 19,
   "metadata": {},
   "outputs": [],
   "source": [
    "MC_estimator=MonteCarlo(n=1000, Tmax=Tmax, gamma=0.95, policy=policy, env=env)\n",
    "Vn_s = MC_estimator.run()"
   ]
  },
  {
   "cell_type": "markdown",
   "metadata": {},
   "source": [
    "Computing $J_n$ for every $V_{n}$ for n in $\\{1,2, ..., 1000\\}$ :"
   ]
  },
  {
   "cell_type": "code",
   "execution_count": 20,
   "metadata": {},
   "outputs": [],
   "source": [
    "J_n_values = MC_estimator.compute_J_n(Vn_s,mu0)"
   ]
  },
  {
   "cell_type": "markdown",
   "metadata": {},
   "source": [
    "Computing $J^\\pi$ :"
   ]
  },
  {
   "cell_type": "code",
   "execution_count": 21,
   "metadata": {},
   "outputs": [],
   "source": [
    "J_pi = MC_estimator.compute_J_n(v_q4,mu0)"
   ]
  },
  {
   "cell_type": "markdown",
   "metadata": {},
   "source": [
    "Ploting $J_n - J^\\pi$ for n in $\\{1,2, ..., 1000\\}$ :"
   ]
  },
  {
   "cell_type": "code",
   "execution_count": 22,
   "metadata": {},
   "outputs": [
    {
     "data": {
      "image/png": "[encoded data removed]",
      "text/plain": [
       "<Figure size 864x288 with 1 Axes>"
      ]
     },
     "metadata": {
      "needs_background": "light"
     },
     "output_type": "display_data"
    }
   ],
   "source": [
    "MC_estimator.plot_evolution(J_n_values,J_pi)"
   ]
  },
  {
   "cell_type": "markdown",
   "metadata": {},
   "source": [
    "## Q5 : Q-Learning"
   ]
  },
  {
   "cell_type": "code",
   "execution_count": 23,
   "metadata": {},
   "outputs": [],
   "source": [
    "#Here is the optimal policy :\n",
    "v_opt = [0.87691855, 0.92820033, 0.98817903, 0.00000000, 0.82369294, 0.92820033, 0.00000000, 0.77818504, 0.82369294,\n",
    "         0.87691855, 0.82847001]"
   ]
  },
  {
   "cell_type": "markdown",
   "metadata": {},
   "source": [
    "### Describing the Q-Learning algorithm parameters"
   ]
  },
  {
   "cell_type": "markdown",
   "metadata": {},
   "source": [
    "We'll choose a learning rate defined as follows :\n",
    "$$ \\alpha_i(x_t,a_t) = \\frac{1}{\\textrm{#visits}(x_t,a_t)}$$\n",
    "\n",
    "The policy exploration is chosen as follows :\n",
    "\n",
    "For a state $x_t$, we'll define the following actions :\n",
    "- **Action 1** : $a_t$ = $argmax_a Q(x_t, a)$ with $a\\in\\mathcal{A}(x_t)$ (possible actions at state $x_t$)\n",
    "- **Action 2** : $a_t$ = Random action from $\\mathcal{A}(x_t)$\n",
    "\n",
    "The policy will take the action 1 with a probability $1-\\epsilon$, and action 2 with a probability $\\epsilon$. Therefore :\n",
    "$$\\pi(x_t) = \\theta*action_1 + (1-\\theta)*action_2$$\n",
    "$$\\textrm{with} \\quad \\theta \\sim \\mathcal{B}(1-\\epsilon)$$\n",
    "\n",
    "We will choose **epsilon = 0.4**\n",
    "\n",
    "These parameters satisfy the **Robbins-Monro conditions**."
   ]
  },
  {
   "cell_type": "markdown",
   "metadata": {},
   "source": [
    "### Q-Learning Algorithm"
   ]
  },
  {
   "cell_type": "code",
   "execution_count": 24,
   "metadata": {},
   "outputs": [],
   "source": [
    "class QLearning():\n",
    "    \n",
    "    def __init__(self, n, Tmax, gamma, epsilon, env):\n",
    "        '''\n",
    "        Parameters & Attributes:\n",
    "        \n",
    "        n: int\n",
    "            Total number of trajectories\n",
    "        Tmax: int\n",
    "            Lenght of one episode  \n",
    "        gamma: float\n",
    "            Discount factor \n",
    "        epsilon: float\n",
    "            Parameter for the greedy exploration policy\n",
    "        env:\n",
    "            The MDP simulator\n",
    "        \n",
    "        Q_: np.array\n",
    "            Q(x,a) matrix\n",
    "        V_s_: np.array\n",
    "            Contains the greedy value functions wtr Q along trajectories\n",
    "        counts_: np.array\n",
    "            Stores how often a state s with an action a has been visited\n",
    "        cumulative_rewards_: np.array\n",
    "            Stores the cumulative reward along trajectories\n",
    "        '''\n",
    "        self.n = n\n",
    "        self.Tmax = Tmax\n",
    "        self.gamma = gamma\n",
    "        self.epsilon = epsilon\n",
    "        self.env = env\n",
    "        \n",
    "        self.Q_ = None\n",
    "        self.Vs_ = None\n",
    "        self.counts_ = None\n",
    "        self.cumulative_rewards_ = None\n",
    "    \n",
    "    def greedy_exploration_policy(self, state):\n",
    "        \"\"\"\n",
    "        Define the epsilon-greedy exploration policy\n",
    "        \n",
    "        Parameters:\n",
    "        \n",
    "        state: int\n",
    "            current state\n",
    "        \"\"\"\n",
    "        action1 = self.env.state_actions[state][np.argmax(self.Q_[state,self.env.state_actions[state]])]\n",
    "        action2 = np.random.choice(self.env.state_actions[state])\n",
    "        theta = np.random.binomial(1,1-self.epsilon)       \n",
    "        return theta*action1 + (1-theta)*action2\n",
    "    \n",
    "    \n",
    "    def run(self):\n",
    "        \"\"\"\n",
    "        Running the Q-Learning algorithm\n",
    "        \"\"\"\n",
    "        self.counts_ = np.zeros((self.env.n_states,len(self.env.action_names)), dtype=int)\n",
    "        self.Q_ = np.zeros((self.env.n_states,len(self.env.action_names)))\n",
    "        self.Vs_ = np.zeros((self.n,self.env.n_states))\n",
    "        self.cumulative_rewards_ = np.zeros(self.n)\n",
    "        rewards = np.zeros((self.n,self.Tmax), dtype=int)\n",
    "        gammas = np.array([self.gamma**k for k in range(self.Tmax)])\n",
    "        \n",
    "        # Running n trajectories\n",
    "        for i in range(self.n):       \n",
    "            state = self.env.reset()\n",
    "\n",
    "            # Running (i+1)-th trajectory\n",
    "            for t in range(self.Tmax):\n",
    "                action = self.greedy_exploration_policy(state)\n",
    "                self.counts_[state,action]+=1        \n",
    "                alpha=1/(self.counts_[state,action])\n",
    "\n",
    "                nexts, rewards[i,t], term = self.env.step(state,action)\n",
    "                delta = rewards[i,t] + self.gamma*np.max(self.Q_[nexts,:]) - self.Q_[state,action]\n",
    "                #Update\n",
    "                self.Q_[state,action] = self.Q_[state,action] + alpha*delta\n",
    "                state = nexts   \n",
    "            \n",
    "            # Computing value function wrt Q for the (i+1)-th trajectory\n",
    "            self.Vs_[i,:] = np.max(self.Q_,axis=1)\n",
    "            \n",
    "            # Computing the accumulated rewards for the (i+1)-th trajectory\n",
    "            self.cumulative_rewards_[i] = self.cumulative_rewards_[i-1] + np.dot(rewards[i,:],gammas)\n",
    "            \n",
    "        return self.Q_\n",
    "        \n",
    "    def plot_evolution(self,optimal_val_func):\n",
    "        \"\"\"        \n",
    "        Plot the infinity norm evolution of the difference between\n",
    "        the optimal value function and the value function wrt Q\n",
    "        computed along trajectories. Also plots the cumulative rewards\n",
    "        along trajectories.\n",
    "        \n",
    "        Parameters:\n",
    "        \n",
    "        optimal_val_func: np.array\n",
    "            Optimal value function\n",
    "        \"\"\"\n",
    "        f, (ax1, ax2) = plt.subplots(1, 2, figsize=(12,4))\n",
    "        ax1.plot(np.max((np.abs(self.Vs_ - optimal_val_func)),axis=1))\n",
    "        ax1.set_ylabel(\"$||v^* - v^{\\pi_n}||_\\infty$\")\n",
    "        ax1.set_xlabel(\"$Trajectories : n$\")\n",
    "        ax1.set_title(\"Performance over all the other state\")\n",
    "        \n",
    "        ax2.plot(self.cumulative_rewards_)\n",
    "        ax2.set_ylabel(\"$$\\sum_{k=1}^{n}\\sum_{t=1}^{T_{max}}\\gamma^{t-1}r_t^(k)$$\")\n",
    "        ax2.set_xlabel(\"$Trajectories : n$\")\n",
    "        ax2.set_title(\"Reward cumulated over the episodes\")\n",
    "        \n",
    "        plt.tight_layout()\n",
    "        plt.show()"
   ]
  },
  {
   "cell_type": "markdown",
   "metadata": {},
   "source": [
    "Running the algorithm for 5000 trajectories :"
   ]
  },
  {
   "cell_type": "code",
   "execution_count": 25,
   "metadata": {},
   "outputs": [],
   "source": [
    "Q_Learner = QLearning(n=5000, Tmax=Tmax, gamma=gamma, epsilon=0.4, env=env)\n",
    "Q_star = Q_Learner.run()"
   ]
  },
  {
   "cell_type": "code",
   "execution_count": 26,
   "metadata": {},
   "outputs": [],
   "source": [
    "Policy_star = np.argmax(Q_star,axis=1)\n",
    "#gui.render_policy(env,Policy_star)"
   ]
  },
  {
   "cell_type": "markdown",
   "metadata": {},
   "source": [
    "Computing the optimal policy found by the Q-Learning :"
   ]
  },
  {
   "cell_type": "code",
   "execution_count": 27,
   "metadata": {},
   "outputs": [
    {
     "name": "stdout",
     "output_type": "stream",
     "text": [
      "Q-Learning Optimal Policy :\n",
      "[0.8459027937777587, 0.9145743616191396, 0.9840041955462653, 0.0, 0.7509856987457841, 0.9167984650015677, 0.0, 0.6565954615884034, 0.7615621148159111, 0.8524442901747938, 0.7614512120900885]\n",
      "---\n",
      "Real Optimal Policy :\n",
      "[0.87691855, 0.92820033, 0.98817903, 0.0, 0.82369294, 0.92820033, 0.0, 0.77818504, 0.82369294, 0.87691855, 0.82847001]\n"
     ]
    }
   ],
   "source": [
    "V_star = np.max(Q_star,axis=1)\n",
    "print(\"Q-Learning Optimal Policy :\")\n",
    "print(list(V_star))\n",
    "print(\"---\")\n",
    "print(\"Real Optimal Policy :\")\n",
    "print(v_opt)"
   ]
  },
  {
   "cell_type": "markdown",
   "metadata": {},
   "source": [
    "We notice that the optimal policy found is near to the true optimal policy."
   ]
  },
  {
   "cell_type": "markdown",
   "metadata": {},
   "source": [
    "Plotting the evolution :"
   ]
  },
  {
   "cell_type": "code",
   "execution_count": 28,
   "metadata": {},
   "outputs": [
    {
     "data": {
      "image/png": "[encoded data removed]",
      "text/plain": [
       "<Figure size 864x288 with 2 Axes>"
      ]
     },
     "metadata": {
      "needs_background": "light"
     },
     "output_type": "display_data"
    }
   ],
   "source": [
    "Q_Learner.plot_evolution(v_opt)"
   ]
  },
  {
   "cell_type": "markdown",
   "metadata": {},
   "source": [
    "## Q6 : Initial state distribution effect"
   ]
  },
  {
   "cell_type": "markdown",
   "metadata": {},
   "source": [
    "Yes, the optimal policy found by the algorithm **is affected by the initial state distribution**. \n",
    "\n",
    "The Robbins-Monro conditions impose that all states have to be visited **infinitely often** in order to converge towards the optimal Q and therefore the optimal value function. The **exploration** of states in then **crucial**\n",
    "\n",
    "- If the MDP doesn't explore well all the states, the algorithm will converge to the optimal policy only if the initial state distribution is large in order to start from all the states. \n",
    "- On the other hand, if the MDP explores well all the states, if we take an initial distribution that only starts from an absorbing state for example, the algorithm won't converge to the optimal policy."
   ]
  }
 ],
 "metadata": {
  "kernelspec": {
   "display_name": "Python 3",
   "language": "python",
   "name": "python3"
  },
  "language_info": {
   "codemirror_mode": {
    "name": "ipython",
    "version": 3
   },
   "file_extension": ".py",
   "mimetype": "text/x-python",
   "name": "python",
   "nbconvert_exporter": "python",
   "pygments_lexer": "ipython3",
   "version": "3.6.6"
  }
 },
 "nbformat": 4,
 "nbformat_minor": 2
}
